{
 "cells": [
  {
   "cell_type": "markdown",
   "metadata": {
    "id": "zDwep1K8Erxl"
   },
   "source": [
    "# **Project:** Data Minining Project for  X company"
   ]
  },
  {
   "cell_type": "code",
   "execution_count": null,
   "metadata": {
    "id": "JzIu-UWIDXHw"
   },
   "outputs": [],
   "source": []
  },
  {
   "cell_type": "markdown",
   "metadata": {
    "id": "d7-ii3uyI8KY"
   },
   "source": [
    "The CRISP-DM Framework\n",
    "\n",
    "\n",
    "The CRISP-DM methodology provides a structured approach to planning a data mining project. It is a robust and well-proven methodology.\n",
    "* Business understanding (BU): Determine Business Objectives, Assess Situation, Determine Data Mining Goals, Produce Project Plan\n",
    "\n",
    "* Data understanding (DU): Collect Initial Data, Describe Data, Explore Data, Verify Data Quality\n",
    "\n",
    "* Data preparation (DP): Select Data, Clean Data, Construct Data, Integrate Data\n",
    "\n",
    "* Modeling (M): Select modeling technique, Generate Test Design, Build Model, Assess Model\n",
    "*  Evaluation (E): Evaluate Results, Review Process, Determine Next Steps\n",
    "*  Deployment (D): Plan Deployment, Plan Monitoring and Maintenance, Produce Final Report, Review Project\n",
    "\n",
    "\n",
    "References:\n",
    "\n",
    "[What is the CRISP-DM methodology?](https://www.sv-europe.com/crisp-dm-methodology/)\n",
    "\n",
    "[Introduction to CRISP DM Framework for Data Science and Machine Learning](https://www.linkedin.com/pulse/chapter-1-introduction-crisp-dm-framework-data-science-anshul-roy/)"
   ]
  },
  {
   "cell_type": "markdown",
   "metadata": {
    "id": "5lo7Ml7tMQOf"
   },
   "source": [
    "**Data Set**\n",
    "### The data is for company X which is trying to control attrition. \n",
    "### There are two sets of data: \"Existing employees\" and \"Employees who have left\". The following attributes are available for every employee.\n",
    "\n",
    "\n",
    "*   Satisfaction Level\n",
    "\n",
    "*   Last evaluation\n",
    "\n",
    "*   Number of projects\n",
    "\n",
    "*   Average monthly hours\n",
    "\n",
    "*   Time spent at the company\n",
    "*   Whether they have had a work accident\n",
    "\n",
    "\n",
    "*  Whether they have had a promotion in the last 5 years\n",
    "\n",
    "\n",
    "*   Departments (column sales)\n",
    "\n",
    "\n",
    "*   Salary\n",
    "\n",
    "\n",
    "*  Whether the employee has left\n",
    "\n",
    "\n",
    "\n",
    "\n",
    "\n",
    "\n",
    "\n",
    "\n",
    "\n",
    "\n",
    "\n",
    "\n",
    "\n",
    "\n",
    "\n",
    "\n"
   ]
  },
  {
   "cell_type": "markdown",
   "metadata": {
    "id": "sjSj2A2sSph_"
   },
   "source": [
    "**Your Role**\n",
    " \n",
    "\n",
    "*   As data science team member X company asked you to answer this two questions.\n",
    "*  What type of employees is leaving? \n",
    "\n",
    "*   Determine which employees are prone to leave next.\n",
    "\n",
    "\n",
    "\n",
    "\n"
   ]
  },
  {
   "cell_type": "markdown",
   "metadata": {
    "id": "ajdEVA7LiBUp"
   },
   "source": [
    "Business Understanding\n",
    "\n",
    "---\n",
    "\n",
    "This step mostly focuses on understanding the Business in all the different aspects. It follows the below different steps.\n",
    "\n",
    "\n",
    "\n",
    "\n",
    "* Identify the goal and frame the business problem.\n",
    "* Prepare Analytical Goal i.e. what type of performance metric and loss function to use\n",
    "* Gather information on resource, constraints, assumptions, risks etc\n",
    "* Gather information on resource, constraints, assumptions, risks etc\n",
    "*   Prepare Work Flow Chart"
   ]
  },
  {
   "cell_type": "markdown",
   "metadata": {
    "id": "J4MwiCYzj2_u"
   },
   "source": [
    "### Write the main objectives of this project in your words?\n",
    "minimum of 100 characters"
   ]
  },
  {
   "cell_type": "code",
   "execution_count": null,
   "metadata": {
    "id": "STyLda45j1Mf"
   },
   "outputs": [],
   "source": [
    "main_objectives ='''The objective of this task is to find what type of employee are quitting and have model to determine which employee will leave next  \n",
    "'''"
   ]
  },
  {
   "cell_type": "code",
   "execution_count": null,
   "metadata": {
    "id": "CuOlxLxKMOLI"
   },
   "outputs": [],
   "source": [
    "assert len(main_objectives) > 100 \n",
    "### BEGIN HIDDEN TESTS\n",
    "assert len(main_objectives) > 80 \n",
    "### END HIDDEN TESTS"
   ]
  },
  {
   "cell_type": "markdown",
   "metadata": {
    "id": "NyXeNxlCkbaw"
   },
   "source": [
    "### Outline the different data analysis steps you will follow to carry out the project"
   ]
  },
  {
   "cell_type": "code",
   "execution_count": null,
   "metadata": {
    "id": "rC-tl8sUksQq"
   },
   "outputs": [],
   "source": [
    "dm_outline = '''\n",
    "1.clean and polish the data\n",
    "2.Analyze and Select a feature from the data that are relevant to our objective\n",
    "    Analyze the select information of indivisuals who have left the company\n",
    "    Analyze and select individual infromation of exsisting employee\n",
    "3.We then visualization to have insight on the relationships between our feature and the target variable. \n",
    "4.We then split the dataset into training and test set.\n",
    "5.Model Evaluation '''"
   ]
  },
  {
   "cell_type": "code",
   "execution_count": null,
   "metadata": {
    "id": "-K1mWuDoksTk"
   },
   "outputs": [],
   "source": [
    "assert len(dm_outline) > 100 \n",
    "### BEGIN HIDDEN TESTS\n",
    "assert len(dm_outline) > 70 \n",
    "### END HIDDEN TESTS"
   ]
  },
  {
   "cell_type": "markdown",
   "metadata": {
    "id": "pmUDFG1wkzUy"
   },
   "source": [
    "### What metrics will you use to measure the performance of your data analysis model? \n",
    "Write the equations of the metrics here"
   ]
  },
  {
   "cell_type": "markdown",
   "metadata": {
    "id": "KCNulojKk_BP"
   },
   "source": [
    "e.g. Precision = $\\frac{TP}{(TP + FP)}$\n",
    "\n"
   ]
  },
  {
   "cell_type": "markdown",
   "metadata": {
    "id": "vLS2YHoRk_EK"
   },
   "source": [
    "Why do you choose these metrics? minimum of 100 characters"
   ]
  },
  {
   "cell_type": "code",
   "execution_count": null,
   "metadata": {
    "id": "LSynT14KlPSJ"
   },
   "outputs": [],
   "source": [
    "why_metrics = '''Precision gives us how many features are truly relevant,We want to avoid the false negative\n",
    "'''"
   ]
  },
  {
   "cell_type": "code",
   "execution_count": null,
   "metadata": {
    "id": "yr-Mk0E8lPVJ"
   },
   "outputs": [],
   "source": [
    "assert len(why_metrics) > 100 \n",
    "### BEGIN HIDDEN TESTS\n",
    "assert len(why_metrics) > 80 \n",
    "### END HIDDEN TESTS"
   ]
  },
  {
   "cell_type": "markdown",
   "metadata": {
    "id": "aAo19Ip6lUtm"
   },
   "source": [
    "### How would you know if your data analysis work is a success or not?\n",
    "minimum of 100 characters"
   ]
  },
  {
   "cell_type": "code",
   "execution_count": null,
   "metadata": {
    "id": "HESsiXW5llX-"
   },
   "outputs": [],
   "source": [
    "how_success = '''if our precision is relativey closer to one that means the true positives can be found more than ositives,And if we can correcly \n",
    "identify what kind of emplooyees are leaving the company'''"
   ]
  },
  {
   "cell_type": "code",
   "execution_count": null,
   "metadata": {
    "id": "FdUoiMIOlmXq"
   },
   "outputs": [],
   "source": [
    "assert len(how_success) > 100 \n",
    "### BEGIN HIDDEN TESTS\n",
    "assert len(how_success) > 80 \n",
    "### END HIDDEN TESTS"
   ]
  },
  {
   "cell_type": "markdown",
   "metadata": {
    "id": "DQE6dqo6l1TZ"
   },
   "source": [
    "## What kind of challenges do you expect in your analysis?\n",
    "List at least 3 challenges"
   ]
  },
  {
   "cell_type": "code",
   "execution_count": 3,
   "metadata": {
    "id": "WrAhBQhQl8Lh"
   },
   "outputs": [],
   "source": [
    "challenge_text = '''\n",
    "1. data overfitting\n",
    "2.unbalanced class of data \n",
    "3. data underfitting \n",
    "4. irrelevant feutures of the data werent necessary\n",
    "'''"
   ]
  },
  {
   "cell_type": "code",
   "execution_count": null,
   "metadata": {
    "id": "EedHa-Pll8X7"
   },
   "outputs": [],
   "source": [
    "assert len(challenge_text) > 100 \n",
    "### BEGIN HIDDEN TESTS\n",
    "assert len(how_success) > 80 \n",
    "### END HIDDEN TESTS"
   ]
  },
  {
   "cell_type": "markdown",
   "metadata": {
    "id": "ZcJ8M6uWDeSE"
   },
   "source": [
    "<h2>Using the processed twitter data from yesterday's challenge</h2>.\n",
    "\n",
    "\n",
    "- Form a new data frame (named `cleanTweet`), containing columns $\\textbf{clean-text}$ and $\\textbf{polarity}$.\n",
    "\n",
    "- Write a function `text_category` that takes a value `p` and returns, depending on the value of p, a string `'positive'`, `'negative'` or `'neutral'`.\n",
    "\n",
    "- Apply this function (`text_category`) on the $\\textbf{polarity}$ column of `cleanTweet` in 1 above to form a new column called $\\textbf{score}$ in `cleanTweet`.\n",
    "\n",
    "- Visualize The $\\textbf{score}$ column using piechart and barchart\n",
    "\n",
    "<h5>Now we want to build a classification model on the clean tweet following the steps below:</h5>\n",
    "\n",
    "* Remove rows from `cleanTweet` where $\\textbf{polarity}$ $= 0$ (i.e where $\\textbf{score}$ = Neutral) and reset the frame index.\n",
    "* Construct a column $\\textbf{scoremap}$ Use the mapping {'positive':1, 'negative':0} on the $\\textbf{score}$ column\n",
    "* Create feature and target variables `(X,y)` from $\\textbf{clean-text}$ and $\\textbf{scoremap}$ columns respectively.\n",
    "* Use `train_test_split` function to construct `(X_train, y_train)` and `(X_test, y_test)` from `(X,y)`\n",
    "\n",
    "* Build an `SGDClassifier` model from the vectorize train text data. Use `CountVectorizer()` with a $\\textit{trigram}$ parameter.\n",
    "\n",
    "* Evaluate your model on the test data.\n"
   ]
  },
  {
   "cell_type": "markdown",
   "metadata": {
    "id": "85WxmGNGDcBY"
   },
   "source": [
    "# Importing Necesary Modules"
   ]
  },
  {
   "cell_type": "code",
   "execution_count": 12,
   "metadata": {},
   "outputs": [],
   "source": [
    "import pandas as pd\n",
    "import matplotlib.pyplot as plt\n",
    "from sklearn.model_selection import train_test_split\n",
    "from sklearn.linear_model import SGDClassifier\n",
    "from sklearn.feature_extraction.text import CountVectorizer\n",
    "from sklearn.metrics import accuracy_score\n",
    "from sklearn. metrics import classification_report\n",
    "from sklearn.metrics import confusion_matrix\n",
    "from sklearn.pipeline import Pipeline\n",
    "from sklearn.feature_extraction.text import TfidfTransformer"
   ]
  },
  {
   "cell_type": "markdown",
   "metadata": {},
   "source": [
    "# Import the data"
   ]
  },
  {
   "cell_type": "code",
   "execution_count": 20,
   "metadata": {},
   "outputs": [],
   "source": [
    "#import the economic data \n",
    "tweets_data=pd.read_csv('C:/Users/melak/Desktop/Week_0/Twitter-Data-Analysis/data/economic_clean_data.csv')"
   ]
  },
  {
   "cell_type": "code",
   "execution_count": 50,
   "metadata": {},
   "outputs": [
    {
     "data": {
      "text/html": [
       "<div>\n",
       "<style scoped>\n",
       "    .dataframe tbody tr th:only-of-type {\n",
       "        vertical-align: middle;\n",
       "    }\n",
       "\n",
       "    .dataframe tbody tr th {\n",
       "        vertical-align: top;\n",
       "    }\n",
       "\n",
       "    .dataframe thead th {\n",
       "        text-align: right;\n",
       "    }\n",
       "</style>\n",
       "<table border=\"1\" class=\"dataframe\">\n",
       "  <thead>\n",
       "    <tr style=\"text-align: right;\">\n",
       "      <th></th>\n",
       "      <th>Unnamed: 0</th>\n",
       "      <th>created_at</th>\n",
       "      <th>source</th>\n",
       "      <th>original_text</th>\n",
       "      <th>clean_text</th>\n",
       "      <th>polarity</th>\n",
       "      <th>subjectivity</th>\n",
       "      <th>lang</th>\n",
       "      <th>favorite_count</th>\n",
       "      <th>retweet_count</th>\n",
       "      <th>original_author</th>\n",
       "      <th>followers_count</th>\n",
       "      <th>friends_count</th>\n",
       "      <th>possibly_sensitive</th>\n",
       "      <th>hashtags</th>\n",
       "      <th>user_mentions</th>\n",
       "      <th>place</th>\n",
       "    </tr>\n",
       "  </thead>\n",
       "  <tbody>\n",
       "    <tr>\n",
       "      <th>0</th>\n",
       "      <td>38</td>\n",
       "      <td>Fri Apr 22 22:17:05 +0000 2022</td>\n",
       "      <td>&lt;a href=\"http://twitter.com/download/android\" ...</td>\n",
       "      <td>RT @NorthstarCharts: The 10-year yield is tell...</td>\n",
       "      <td>The 10-year yield is telling us that there's a...</td>\n",
       "      <td>0.160000</td>\n",
       "      <td>0.540000</td>\n",
       "      <td>en</td>\n",
       "      <td>0.0</td>\n",
       "      <td>43.0</td>\n",
       "      <td>davideiacovozzi</td>\n",
       "      <td>18</td>\n",
       "      <td>55</td>\n",
       "      <td>NaN</td>\n",
       "      <td>[{'text': 'gold', 'indices': [116, 121]}, {'te...</td>\n",
       "      <td>NorthstarCharts</td>\n",
       "      <td>NaN</td>\n",
       "    </tr>\n",
       "    <tr>\n",
       "      <th>1</th>\n",
       "      <td>39</td>\n",
       "      <td>Fri Apr 22 13:44:53 +0000 2022</td>\n",
       "      <td>&lt;a href=\"http://twitter.com/download/android\" ...</td>\n",
       "      <td>RT @MichaelAArouet: German 10y mortgage rate w...</td>\n",
       "      <td>German 10y mortgage rate went from 0,8% to 2,5...</td>\n",
       "      <td>0.150000</td>\n",
       "      <td>0.175000</td>\n",
       "      <td>en</td>\n",
       "      <td>0.0</td>\n",
       "      <td>32.0</td>\n",
       "      <td>davideiacovozzi</td>\n",
       "      <td>18</td>\n",
       "      <td>55</td>\n",
       "      <td>NaN</td>\n",
       "      <td>[]</td>\n",
       "      <td>MichaelAArouet</td>\n",
       "      <td>NaN</td>\n",
       "    </tr>\n",
       "    <tr>\n",
       "      <th>2</th>\n",
       "      <td>41</td>\n",
       "      <td>Fri Apr 22 06:10:34 +0000 2022</td>\n",
       "      <td>&lt;a href=\"http://twitter.com/download/android\" ...</td>\n",
       "      <td>RT @goldseek: When? https://t.co/kO2FfHKaZg</td>\n",
       "      <td>When? https://t.co/kO2FfHKaZg</td>\n",
       "      <td>0.000000</td>\n",
       "      <td>0.000000</td>\n",
       "      <td>en</td>\n",
       "      <td>0.0</td>\n",
       "      <td>26.0</td>\n",
       "      <td>davideiacovozzi</td>\n",
       "      <td>18</td>\n",
       "      <td>55</td>\n",
       "      <td>False</td>\n",
       "      <td>[]</td>\n",
       "      <td>goldseek</td>\n",
       "      <td>NaN</td>\n",
       "    </tr>\n",
       "    <tr>\n",
       "      <th>3</th>\n",
       "      <td>42</td>\n",
       "      <td>Thu Apr 21 17:22:09 +0000 2022</td>\n",
       "      <td>&lt;a href=\"http://twitter.com/download/android\" ...</td>\n",
       "      <td>RT @charliebilello: The 30-year mortgage rate ...</td>\n",
       "      <td>The 30-year mortgage rate in the US rises to 5...</td>\n",
       "      <td>0.000000</td>\n",
       "      <td>0.066667</td>\n",
       "      <td>en</td>\n",
       "      <td>0.0</td>\n",
       "      <td>213.0</td>\n",
       "      <td>davideiacovozzi</td>\n",
       "      <td>18</td>\n",
       "      <td>55</td>\n",
       "      <td>NaN</td>\n",
       "      <td>[]</td>\n",
       "      <td>charliebilello</td>\n",
       "      <td>NaN</td>\n",
       "    </tr>\n",
       "    <tr>\n",
       "      <th>4</th>\n",
       "      <td>43</td>\n",
       "      <td>Thu Apr 21 10:32:26 +0000 2022</td>\n",
       "      <td>&lt;a href=\"http://twitter.com/download/android\" ...</td>\n",
       "      <td>RT @biancoresearch: Rates rise until something...</td>\n",
       "      <td>Rates rise until something breaks … is anythin...</td>\n",
       "      <td>-0.400000</td>\n",
       "      <td>0.400000</td>\n",
       "      <td>en</td>\n",
       "      <td>0.0</td>\n",
       "      <td>417.0</td>\n",
       "      <td>davideiacovozzi</td>\n",
       "      <td>18</td>\n",
       "      <td>55</td>\n",
       "      <td>False</td>\n",
       "      <td>[]</td>\n",
       "      <td>biancoresearch</td>\n",
       "      <td>NaN</td>\n",
       "    </tr>\n",
       "    <tr>\n",
       "      <th>5</th>\n",
       "      <td>44</td>\n",
       "      <td>Tue Apr 19 10:59:33 +0000 2022</td>\n",
       "      <td>&lt;a href=\"http://twitter.com/download/android\" ...</td>\n",
       "      <td>RT @LanceRoberts: Buying opportunities like th...</td>\n",
       "      <td>Buying opportunities like this only occur ever...</td>\n",
       "      <td>-0.100000</td>\n",
       "      <td>0.550000</td>\n",
       "      <td>en</td>\n",
       "      <td>0.0</td>\n",
       "      <td>162.0</td>\n",
       "      <td>davideiacovozzi</td>\n",
       "      <td>18</td>\n",
       "      <td>55</td>\n",
       "      <td>False</td>\n",
       "      <td>[{'text': 'bonds', 'indices': [78, 84]}]</td>\n",
       "      <td>LanceRoberts</td>\n",
       "      <td>NaN</td>\n",
       "    </tr>\n",
       "    <tr>\n",
       "      <th>6</th>\n",
       "      <td>45</td>\n",
       "      <td>Tue Apr 19 10:58:15 +0000 2022</td>\n",
       "      <td>&lt;a href=\"http://twitter.com/download/android\" ...</td>\n",
       "      <td>RT @MacroAlf: Welcome to September 2018.\\n\\nBo...</td>\n",
       "      <td>Welcome to September 2018.\\n\\nBond markets tes...</td>\n",
       "      <td>0.400000</td>\n",
       "      <td>0.637500</td>\n",
       "      <td>en</td>\n",
       "      <td>0.0</td>\n",
       "      <td>45.0</td>\n",
       "      <td>davideiacovozzi</td>\n",
       "      <td>18</td>\n",
       "      <td>55</td>\n",
       "      <td>NaN</td>\n",
       "      <td>[]</td>\n",
       "      <td>MacroAlf</td>\n",
       "      <td>NaN</td>\n",
       "    </tr>\n",
       "    <tr>\n",
       "      <th>7</th>\n",
       "      <td>46</td>\n",
       "      <td>Mon Apr 18 09:31:42 +0000 2022</td>\n",
       "      <td>&lt;a href=\"http://twitter.com/download/android\" ...</td>\n",
       "      <td>RT @BotBenFranklin: The horse thinks one thing...</td>\n",
       "      <td>The horse thinks one thing, and he that saddle...</td>\n",
       "      <td>0.000000</td>\n",
       "      <td>0.000000</td>\n",
       "      <td>en</td>\n",
       "      <td>0.0</td>\n",
       "      <td>4.0</td>\n",
       "      <td>davideiacovozzi</td>\n",
       "      <td>18</td>\n",
       "      <td>55</td>\n",
       "      <td>NaN</td>\n",
       "      <td>[]</td>\n",
       "      <td>BotBenFranklin</td>\n",
       "      <td>NaN</td>\n",
       "    </tr>\n",
       "    <tr>\n",
       "      <th>8</th>\n",
       "      <td>47</td>\n",
       "      <td>Sun Apr 17 22:04:00 +0000 2022</td>\n",
       "      <td>&lt;a href=\"http://twitter.com/download/android\" ...</td>\n",
       "      <td>RT @Galactic_Trader: Global growth optimism at...</td>\n",
       "      <td>Global growth optimism at all time lows! \\n\\nW...</td>\n",
       "      <td>0.488281</td>\n",
       "      <td>0.250000</td>\n",
       "      <td>en</td>\n",
       "      <td>0.0</td>\n",
       "      <td>4.0</td>\n",
       "      <td>davideiacovozzi</td>\n",
       "      <td>18</td>\n",
       "      <td>55</td>\n",
       "      <td>NaN</td>\n",
       "      <td>[]</td>\n",
       "      <td>Galactic_Trader</td>\n",
       "      <td>NaN</td>\n",
       "    </tr>\n",
       "    <tr>\n",
       "      <th>9</th>\n",
       "      <td>48</td>\n",
       "      <td>Sun Apr 17 18:21:46 +0000 2022</td>\n",
       "      <td>&lt;a href=\"http://twitter.com/download/android\" ...</td>\n",
       "      <td>RT @AndreasSteno: This is the most important c...</td>\n",
       "      <td>This is the most important chart in the world ...</td>\n",
       "      <td>0.450000</td>\n",
       "      <td>0.750000</td>\n",
       "      <td>en</td>\n",
       "      <td>0.0</td>\n",
       "      <td>176.0</td>\n",
       "      <td>davideiacovozzi</td>\n",
       "      <td>18</td>\n",
       "      <td>55</td>\n",
       "      <td>NaN</td>\n",
       "      <td>[]</td>\n",
       "      <td>AndreasSteno</td>\n",
       "      <td>NaN</td>\n",
       "    </tr>\n",
       "  </tbody>\n",
       "</table>\n",
       "</div>"
      ],
      "text/plain": [
       "   Unnamed: 0                      created_at  \\\n",
       "0          38  Fri Apr 22 22:17:05 +0000 2022   \n",
       "1          39  Fri Apr 22 13:44:53 +0000 2022   \n",
       "2          41  Fri Apr 22 06:10:34 +0000 2022   \n",
       "3          42  Thu Apr 21 17:22:09 +0000 2022   \n",
       "4          43  Thu Apr 21 10:32:26 +0000 2022   \n",
       "5          44  Tue Apr 19 10:59:33 +0000 2022   \n",
       "6          45  Tue Apr 19 10:58:15 +0000 2022   \n",
       "7          46  Mon Apr 18 09:31:42 +0000 2022   \n",
       "8          47  Sun Apr 17 22:04:00 +0000 2022   \n",
       "9          48  Sun Apr 17 18:21:46 +0000 2022   \n",
       "\n",
       "                                              source  \\\n",
       "0  <a href=\"http://twitter.com/download/android\" ...   \n",
       "1  <a href=\"http://twitter.com/download/android\" ...   \n",
       "2  <a href=\"http://twitter.com/download/android\" ...   \n",
       "3  <a href=\"http://twitter.com/download/android\" ...   \n",
       "4  <a href=\"http://twitter.com/download/android\" ...   \n",
       "5  <a href=\"http://twitter.com/download/android\" ...   \n",
       "6  <a href=\"http://twitter.com/download/android\" ...   \n",
       "7  <a href=\"http://twitter.com/download/android\" ...   \n",
       "8  <a href=\"http://twitter.com/download/android\" ...   \n",
       "9  <a href=\"http://twitter.com/download/android\" ...   \n",
       "\n",
       "                                       original_text  \\\n",
       "0  RT @NorthstarCharts: The 10-year yield is tell...   \n",
       "1  RT @MichaelAArouet: German 10y mortgage rate w...   \n",
       "2        RT @goldseek: When? https://t.co/kO2FfHKaZg   \n",
       "3  RT @charliebilello: The 30-year mortgage rate ...   \n",
       "4  RT @biancoresearch: Rates rise until something...   \n",
       "5  RT @LanceRoberts: Buying opportunities like th...   \n",
       "6  RT @MacroAlf: Welcome to September 2018.\\n\\nBo...   \n",
       "7  RT @BotBenFranklin: The horse thinks one thing...   \n",
       "8  RT @Galactic_Trader: Global growth optimism at...   \n",
       "9  RT @AndreasSteno: This is the most important c...   \n",
       "\n",
       "                                          clean_text  polarity  subjectivity  \\\n",
       "0  The 10-year yield is telling us that there's a...  0.160000      0.540000   \n",
       "1  German 10y mortgage rate went from 0,8% to 2,5...  0.150000      0.175000   \n",
       "2                      When? https://t.co/kO2FfHKaZg  0.000000      0.000000   \n",
       "3  The 30-year mortgage rate in the US rises to 5...  0.000000      0.066667   \n",
       "4  Rates rise until something breaks … is anythin... -0.400000      0.400000   \n",
       "5  Buying opportunities like this only occur ever... -0.100000      0.550000   \n",
       "6  Welcome to September 2018.\\n\\nBond markets tes...  0.400000      0.637500   \n",
       "7  The horse thinks one thing, and he that saddle...  0.000000      0.000000   \n",
       "8  Global growth optimism at all time lows! \\n\\nW...  0.488281      0.250000   \n",
       "9  This is the most important chart in the world ...  0.450000      0.750000   \n",
       "\n",
       "  lang  favorite_count  retweet_count  original_author  followers_count  \\\n",
       "0   en             0.0           43.0  davideiacovozzi               18   \n",
       "1   en             0.0           32.0  davideiacovozzi               18   \n",
       "2   en             0.0           26.0  davideiacovozzi               18   \n",
       "3   en             0.0          213.0  davideiacovozzi               18   \n",
       "4   en             0.0          417.0  davideiacovozzi               18   \n",
       "5   en             0.0          162.0  davideiacovozzi               18   \n",
       "6   en             0.0           45.0  davideiacovozzi               18   \n",
       "7   en             0.0            4.0  davideiacovozzi               18   \n",
       "8   en             0.0            4.0  davideiacovozzi               18   \n",
       "9   en             0.0          176.0  davideiacovozzi               18   \n",
       "\n",
       "   friends_count possibly_sensitive  \\\n",
       "0             55                NaN   \n",
       "1             55                NaN   \n",
       "2             55              False   \n",
       "3             55                NaN   \n",
       "4             55              False   \n",
       "5             55              False   \n",
       "6             55                NaN   \n",
       "7             55                NaN   \n",
       "8             55                NaN   \n",
       "9             55                NaN   \n",
       "\n",
       "                                            hashtags    user_mentions place  \n",
       "0  [{'text': 'gold', 'indices': [116, 121]}, {'te...  NorthstarCharts   NaN  \n",
       "1                                                 []   MichaelAArouet   NaN  \n",
       "2                                                 []         goldseek   NaN  \n",
       "3                                                 []   charliebilello   NaN  \n",
       "4                                                 []   biancoresearch   NaN  \n",
       "5           [{'text': 'bonds', 'indices': [78, 84]}]     LanceRoberts   NaN  \n",
       "6                                                 []         MacroAlf   NaN  \n",
       "7                                                 []   BotBenFranklin   NaN  \n",
       "8                                                 []  Galactic_Trader   NaN  \n",
       "9                                                 []     AndreasSteno   NaN  "
      ]
     },
     "execution_count": 50,
     "metadata": {},
     "output_type": "execute_result"
    }
   ],
   "source": [
    "#Return the first 10 rows\n",
    "tweets_data.head(10)"
   ]
  },
  {
   "cell_type": "markdown",
   "metadata": {},
   "source": [
    "## Selection of a columns"
   ]
  },
  {
   "cell_type": "code",
   "execution_count": 60,
   "metadata": {},
   "outputs": [
    {
     "data": {
      "text/html": [
       "<div>\n",
       "<style scoped>\n",
       "    .dataframe tbody tr th:only-of-type {\n",
       "        vertical-align: middle;\n",
       "    }\n",
       "\n",
       "    .dataframe tbody tr th {\n",
       "        vertical-align: top;\n",
       "    }\n",
       "\n",
       "    .dataframe thead th {\n",
       "        text-align: right;\n",
       "    }\n",
       "</style>\n",
       "<table border=\"1\" class=\"dataframe\">\n",
       "  <thead>\n",
       "    <tr style=\"text-align: right;\">\n",
       "      <th></th>\n",
       "      <th>clean_text</th>\n",
       "      <th>polarity</th>\n",
       "    </tr>\n",
       "  </thead>\n",
       "  <tbody>\n",
       "    <tr>\n",
       "      <th>0</th>\n",
       "      <td>The 10-year yield is telling us that there's a...</td>\n",
       "      <td>0.160000</td>\n",
       "    </tr>\n",
       "    <tr>\n",
       "      <th>1</th>\n",
       "      <td>German 10y mortgage rate went from 0,8% to 2,5...</td>\n",
       "      <td>0.150000</td>\n",
       "    </tr>\n",
       "    <tr>\n",
       "      <th>2</th>\n",
       "      <td>When? https://t.co/kO2FfHKaZg</td>\n",
       "      <td>0.000000</td>\n",
       "    </tr>\n",
       "    <tr>\n",
       "      <th>3</th>\n",
       "      <td>The 30-year mortgage rate in the US rises to 5...</td>\n",
       "      <td>0.000000</td>\n",
       "    </tr>\n",
       "    <tr>\n",
       "      <th>4</th>\n",
       "      <td>Rates rise until something breaks … is anythin...</td>\n",
       "      <td>-0.400000</td>\n",
       "    </tr>\n",
       "    <tr>\n",
       "      <th>5</th>\n",
       "      <td>Buying opportunities like this only occur ever...</td>\n",
       "      <td>-0.100000</td>\n",
       "    </tr>\n",
       "    <tr>\n",
       "      <th>6</th>\n",
       "      <td>Welcome to September 2018.\\n\\nBond markets tes...</td>\n",
       "      <td>0.400000</td>\n",
       "    </tr>\n",
       "    <tr>\n",
       "      <th>7</th>\n",
       "      <td>The horse thinks one thing, and he that saddle...</td>\n",
       "      <td>0.000000</td>\n",
       "    </tr>\n",
       "    <tr>\n",
       "      <th>8</th>\n",
       "      <td>Global growth optimism at all time lows! \\n\\nW...</td>\n",
       "      <td>0.488281</td>\n",
       "    </tr>\n",
       "    <tr>\n",
       "      <th>9</th>\n",
       "      <td>This is the most important chart in the world ...</td>\n",
       "      <td>0.450000</td>\n",
       "    </tr>\n",
       "  </tbody>\n",
       "</table>\n",
       "</div>"
      ],
      "text/plain": [
       "                                          clean_text  polarity\n",
       "0  The 10-year yield is telling us that there's a...  0.160000\n",
       "1  German 10y mortgage rate went from 0,8% to 2,5...  0.150000\n",
       "2                      When? https://t.co/kO2FfHKaZg  0.000000\n",
       "3  The 30-year mortgage rate in the US rises to 5...  0.000000\n",
       "4  Rates rise until something breaks … is anythin... -0.400000\n",
       "5  Buying opportunities like this only occur ever... -0.100000\n",
       "6  Welcome to September 2018.\\n\\nBond markets tes...  0.400000\n",
       "7  The horse thinks one thing, and he that saddle...  0.000000\n",
       "8  Global growth optimism at all time lows! \\n\\nW...  0.488281\n",
       "9  This is the most important chart in the world ...  0.450000"
      ]
     },
     "execution_count": 60,
     "metadata": {},
     "output_type": "execute_result"
    }
   ],
   "source": [
    "clean_Tweets=tweets_data[['clean_text','polarity']]\n",
    "clean_Tweets.head(10)"
   ]
  },
  {
   "cell_type": "code",
   "execution_count": 58,
   "metadata": {},
   "outputs": [],
   "source": [
    "'''return the sentiment of a text\n",
    "   if p is > 0:it is positive statement\n",
    "   if p is < 0:it is negative statement\n",
    "   if p is the statement\n",
    "   \n",
    "\n",
    "''' \n",
    "def text_category(p):\n",
    "    if p>0:\n",
    "        return 'positive'\n",
    "    elif p<0:\n",
    "        return 'negative'\n",
    "    return 'neutral'"
   ]
  },
  {
   "cell_type": "code",
   "execution_count": 71,
   "metadata": {
    "scrolled": true
   },
   "outputs": [
    {
     "data": {
      "text/html": [
       "<div>\n",
       "<style scoped>\n",
       "    .dataframe tbody tr th:only-of-type {\n",
       "        vertical-align: middle;\n",
       "    }\n",
       "\n",
       "    .dataframe tbody tr th {\n",
       "        vertical-align: top;\n",
       "    }\n",
       "\n",
       "    .dataframe thead th {\n",
       "        text-align: right;\n",
       "    }\n",
       "</style>\n",
       "<table border=\"1\" class=\"dataframe\">\n",
       "  <thead>\n",
       "    <tr style=\"text-align: right;\">\n",
       "      <th></th>\n",
       "      <th>clean_text</th>\n",
       "      <th>polarity</th>\n",
       "      <th>score</th>\n",
       "    </tr>\n",
       "  </thead>\n",
       "  <tbody>\n",
       "    <tr>\n",
       "      <th>0</th>\n",
       "      <td>The 10-year yield is telling us that there's a...</td>\n",
       "      <td>0.160000</td>\n",
       "      <td>positive</td>\n",
       "    </tr>\n",
       "    <tr>\n",
       "      <th>1</th>\n",
       "      <td>German 10y mortgage rate went from 0,8% to 2,5...</td>\n",
       "      <td>0.150000</td>\n",
       "      <td>positive</td>\n",
       "    </tr>\n",
       "    <tr>\n",
       "      <th>2</th>\n",
       "      <td>When? https://t.co/kO2FfHKaZg</td>\n",
       "      <td>0.000000</td>\n",
       "      <td>neutral</td>\n",
       "    </tr>\n",
       "    <tr>\n",
       "      <th>3</th>\n",
       "      <td>The 30-year mortgage rate in the US rises to 5...</td>\n",
       "      <td>0.000000</td>\n",
       "      <td>neutral</td>\n",
       "    </tr>\n",
       "    <tr>\n",
       "      <th>4</th>\n",
       "      <td>Rates rise until something breaks … is anythin...</td>\n",
       "      <td>-0.400000</td>\n",
       "      <td>negative</td>\n",
       "    </tr>\n",
       "    <tr>\n",
       "      <th>5</th>\n",
       "      <td>Buying opportunities like this only occur ever...</td>\n",
       "      <td>-0.100000</td>\n",
       "      <td>negative</td>\n",
       "    </tr>\n",
       "    <tr>\n",
       "      <th>6</th>\n",
       "      <td>Welcome to September 2018.\\n\\nBond markets tes...</td>\n",
       "      <td>0.400000</td>\n",
       "      <td>positive</td>\n",
       "    </tr>\n",
       "    <tr>\n",
       "      <th>7</th>\n",
       "      <td>The horse thinks one thing, and he that saddle...</td>\n",
       "      <td>0.000000</td>\n",
       "      <td>neutral</td>\n",
       "    </tr>\n",
       "    <tr>\n",
       "      <th>8</th>\n",
       "      <td>Global growth optimism at all time lows! \\n\\nW...</td>\n",
       "      <td>0.488281</td>\n",
       "      <td>positive</td>\n",
       "    </tr>\n",
       "    <tr>\n",
       "      <th>9</th>\n",
       "      <td>This is the most important chart in the world ...</td>\n",
       "      <td>0.450000</td>\n",
       "      <td>positive</td>\n",
       "    </tr>\n",
       "  </tbody>\n",
       "</table>\n",
       "</div>"
      ],
      "text/plain": [
       "                                          clean_text  polarity     score\n",
       "0  The 10-year yield is telling us that there's a...  0.160000  positive\n",
       "1  German 10y mortgage rate went from 0,8% to 2,5...  0.150000  positive\n",
       "2                      When? https://t.co/kO2FfHKaZg  0.000000   neutral\n",
       "3  The 30-year mortgage rate in the US rises to 5...  0.000000   neutral\n",
       "4  Rates rise until something breaks … is anythin... -0.400000  negative\n",
       "5  Buying opportunities like this only occur ever... -0.100000  negative\n",
       "6  Welcome to September 2018.\\n\\nBond markets tes...  0.400000  positive\n",
       "7  The horse thinks one thing, and he that saddle...  0.000000   neutral\n",
       "8  Global growth optimism at all time lows! \\n\\nW...  0.488281  positive\n",
       "9  This is the most important chart in the world ...  0.450000  positive"
      ]
     },
     "execution_count": 71,
     "metadata": {},
     "output_type": "execute_result"
    }
   ],
   "source": [
    "clean_Tweets['Stat'] = clean_Tweets.polarity.apply(text_category)\n",
    "clean_Tweets.head(10)"
   ]
  },
  {
   "cell_type": "code",
   "execution_count": null,
   "metadata": {},
   "outputs": [],
   "source": []
  }
 ],
 "metadata": {
  "colab": {
   "collapsed_sections": [],
   "name": "Challenge_ Day2.ipynb",
   "provenance": []
  },
  "kernelspec": {
   "display_name": "Python 3",
   "language": "python",
   "name": "python3"
  },
  "language_info": {
   "codemirror_mode": {
    "name": "ipython",
    "version": 3
   },
   "file_extension": ".py",
   "mimetype": "text/x-python",
   "name": "python",
   "nbconvert_exporter": "python",
   "pygments_lexer": "ipython3",
   "version": "3.8.8"
  }
 },
 "nbformat": 4,
 "nbformat_minor": 1
}
